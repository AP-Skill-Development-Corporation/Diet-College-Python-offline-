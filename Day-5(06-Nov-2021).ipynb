{
 "cells": [
  {
   "cell_type": "markdown",
   "metadata": {},
   "source": [
    "### Day Objectives:\n",
    "\n",
    "- OOPS\n",
    "- Data Science Packages\n",
    "    - Numpy\n",
    "    - Pandas\n",
    "    - Matplotlib"
   ]
  },
  {
   "cell_type": "markdown",
   "metadata": {},
   "source": [
    "### Tasks:\n",
    "- Print all the perfect numbers in a given range.(range should be user given)\n",
    "- WAP to check whether th given number palindrome or not\n",
    "    example:\n",
    "        i/p: 121\n",
    "        o/p: palindrome\n",
    "        i/p: 12345\n",
    "        o/p: not a palindrome"
   ]
  },
  {
   "cell_type": "markdown",
   "metadata": {},
   "source": [
    "### Projects:\n",
    "- Contact application using dictionaries\n",
    "- Restaurent application using functions\n",
    "- User verification using regular expressions\n",
    "- ATM application.\n",
    "- Guess the number"
   ]
  },
  {
   "cell_type": "code",
   "execution_count": 1,
   "metadata": {},
   "outputs": [],
   "source": [
    "\n",
    "class Math:\n",
    "    def add(n1,n2):\n",
    "        return n1+n2\n",
    "    def mul(n1,n2):\n",
    "        return n1*n2"
   ]
  },
  {
   "cell_type": "code",
   "execution_count": 2,
   "metadata": {},
   "outputs": [
    {
     "name": "stdout",
     "output_type": "stream",
     "text": [
      "7\n",
      "72\n"
     ]
    }
   ],
   "source": [
    "obj=Math\n",
    "print(obj.add(3,4))\n",
    "print(obj.mul(8,9))"
   ]
  },
  {
   "cell_type": "code",
   "execution_count": 5,
   "metadata": {},
   "outputs": [
    {
     "name": "stdout",
     "output_type": "stream",
     "text": [
      "7\n",
      "72\n"
     ]
    }
   ],
   "source": [
    "class Math:\n",
    "    def __init__(self):\n",
    "        pass\n",
    "    def add(n1,n2):\n",
    "        return n1+n2\n",
    "    def mul(n1,n2):\n",
    "        return n1*n2\n",
    "    \n",
    "obj=Math\n",
    "print(obj.add(3,4))\n",
    "print(obj.mul(8,9))"
   ]
  },
  {
   "cell_type": "code",
   "execution_count": 13,
   "metadata": {
    "scrolled": true
   },
   "outputs": [
    {
     "name": "stdout",
     "output_type": "stream",
     "text": [
      "99\n",
      "12\n",
      "87\n"
     ]
    }
   ],
   "source": [
    "class Basic:\n",
    "    def __init__(self,v1,v2):\n",
    "        self.v1=v1\n",
    "        self.v2=v2\n",
    "    def show(self):\n",
    "        print(self.v1)\n",
    "        print(self.v2)\n",
    "    def add(self):\n",
    "        return self.v1+self.v2\n",
    "m=Basic(12,87)\n",
    "print(m.add())\n",
    "m.show()"
   ]
  },
  {
   "cell_type": "markdown",
   "metadata": {},
   "source": [
    "- class derived_class(base_class_name):"
   ]
  },
  {
   "cell_type": "code",
   "execution_count": 15,
   "metadata": {},
   "outputs": [],
   "source": [
    "class Parent:\n",
    "    def parent_method(self):\n",
    "        print(\"Parent method\")\n",
    "class Child(Parent):\n",
    "    def child_method(self):\n",
    "        print(\"Child method\")"
   ]
  },
  {
   "cell_type": "code",
   "execution_count": 17,
   "metadata": {},
   "outputs": [],
   "source": [
    "p = Parent()\n",
    "c = Child()"
   ]
  },
  {
   "cell_type": "code",
   "execution_count": 18,
   "metadata": {},
   "outputs": [
    {
     "name": "stdout",
     "output_type": "stream",
     "text": [
      "Parent method\n"
     ]
    }
   ],
   "source": [
    "c.parent_method()"
   ]
  },
  {
   "cell_type": "code",
   "execution_count": 20,
   "metadata": {},
   "outputs": [
    {
     "name": "stdout",
     "output_type": "stream",
     "text": [
      "Child method\n"
     ]
    }
   ],
   "source": [
    "c.child_method()"
   ]
  },
  {
   "cell_type": "code",
   "execution_count": 21,
   "metadata": {},
   "outputs": [
    {
     "ename": "AttributeError",
     "evalue": "'Parent' object has no attribute 'child_method'",
     "output_type": "error",
     "traceback": [
      "\u001b[1;31m---------------------------------------------------------------------------\u001b[0m",
      "\u001b[1;31mAttributeError\u001b[0m                            Traceback (most recent call last)",
      "\u001b[1;32m<ipython-input-21-c9880bb7482c>\u001b[0m in \u001b[0;36m<module>\u001b[1;34m\u001b[0m\n\u001b[1;32m----> 1\u001b[1;33m \u001b[0mp\u001b[0m\u001b[1;33m.\u001b[0m\u001b[0mchild_method\u001b[0m\u001b[1;33m(\u001b[0m\u001b[1;33m)\u001b[0m\u001b[1;33m\u001b[0m\u001b[1;33m\u001b[0m\u001b[0m\n\u001b[0m",
      "\u001b[1;31mAttributeError\u001b[0m: 'Parent' object has no attribute 'child_method'"
     ]
    }
   ],
   "source": [
    "p.child_method()"
   ]
  },
  {
   "cell_type": "code",
   "execution_count": 25,
   "metadata": {},
   "outputs": [],
   "source": [
    "class Grand_Parent:\n",
    "    def gpm(self):\n",
    "        print(\"Grand Parent method\")\n",
    "class Parent(Grand_Parent):\n",
    "    def pm(self):\n",
    "        print(\"Parent method\")\n",
    "class Child(Parent):\n",
    "    def cm(self):\n",
    "        print(\"Child method\")"
   ]
  },
  {
   "cell_type": "code",
   "execution_count": 26,
   "metadata": {},
   "outputs": [],
   "source": [
    "p = Parent()\n",
    "c = Child()"
   ]
  },
  {
   "cell_type": "code",
   "execution_count": 27,
   "metadata": {},
   "outputs": [
    {
     "name": "stdout",
     "output_type": "stream",
     "text": [
      "Grand Parent method\n",
      "Parent method\n"
     ]
    }
   ],
   "source": [
    "p.gpm()\n",
    "p.pm()"
   ]
  },
  {
   "cell_type": "code",
   "execution_count": 28,
   "metadata": {},
   "outputs": [
    {
     "name": "stdout",
     "output_type": "stream",
     "text": [
      "Grand Parent method\n",
      "Parent method\n",
      "Child method\n"
     ]
    }
   ],
   "source": [
    "c.gpm()\n",
    "c.pm()\n",
    "c.cm()"
   ]
  },
  {
   "cell_type": "code",
   "execution_count": 29,
   "metadata": {
    "collapsed": true
   },
   "outputs": [
    {
     "ename": "SyntaxError",
     "evalue": "unexpected EOF while parsing (<ipython-input-29-3c57a45312fc>, line 1)",
     "output_type": "error",
     "traceback": [
      "\u001b[1;36m  File \u001b[1;32m\"<ipython-input-29-3c57a45312fc>\"\u001b[1;36m, line \u001b[1;32m1\u001b[0m\n\u001b[1;33m    class deruve_class(base1,base2):\u001b[0m\n\u001b[1;37m                                    ^\u001b[0m\n\u001b[1;31mSyntaxError\u001b[0m\u001b[1;31m:\u001b[0m unexpected EOF while parsing\n"
     ]
    }
   ],
   "source": [
    "class deruve_class(base1,base2):"
   ]
  },
  {
   "cell_type": "code",
   "execution_count": null,
   "metadata": {},
   "outputs": [],
   "source": []
  }
 ],
 "metadata": {
  "kernelspec": {
   "display_name": "Python 3",
   "language": "python",
   "name": "python3"
  },
  "language_info": {
   "codemirror_mode": {
    "name": "ipython",
    "version": 3
   },
   "file_extension": ".py",
   "mimetype": "text/x-python",
   "name": "python",
   "nbconvert_exporter": "python",
   "pygments_lexer": "ipython3",
   "version": "3.7.3"
  }
 },
 "nbformat": 4,
 "nbformat_minor": 2
}

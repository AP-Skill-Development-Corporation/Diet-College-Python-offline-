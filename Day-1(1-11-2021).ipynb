{
 "cells": [
  {
   "cell_type": "markdown",
   "metadata": {},
   "source": [
    "## Day Objectives:\n",
    "\n",
    "- Markdown format\n",
    "- Jupyter notebook shortcuts\n",
    "- Python Basics\n",
    "- Types operators"
   ]
  },
  {
   "cell_type": "markdown",
   "metadata": {},
   "source": [
    "## Markdown Format\n",
    "- Headings\n",
    "- Blod text\n",
    "- Italic text\n",
    "- Lists\n",
    "    - Ordered list\n",
    "    - Un ordered list\n",
    "- Blocks\n",
    "- link insertion\n",
    "- Image insertion"
   ]
  },
  {
   "cell_type": "markdown",
   "metadata": {},
   "source": [
    "# Main Heading\n",
    "## Sub Heading\n",
    "### Side or third type of heading\n",
    "###### last heading\n",
    "####### not acceptable\n",
    "\n",
    "#### Literate programming\n",
    "    - Prepare documentation along with coding part\n",
    "**Bold text** \n",
    "\n",
    "*Italic Text*\n",
    "\n",
    "***BOLD & iTALIC***\n",
    "\n",
    "\n",
    "## Un-ordered list\n",
    "\n",
    "* Diet College\n",
    "    * cse\n",
    "        * Section-A\n",
    "        * Section-B\n",
    "    * ece\n",
    "    * eee\n",
    "    \n",
    "## Ordered List\n",
    "\n",
    "1. Programming Languages\n",
    "    1. Java\n",
    "    2. Python\n",
    "    3. C\n",
    "2. Web Languages\n",
    "    1. Html\n",
    "    2. Css\n",
    "    3. JS\n",
    "    \n",
    "### Blocks\n",
    "\n",
    "> good morning\n",
    ">> Hello everyone !!\n",
    ">>> This is the first day of workshop\n",
    "\n",
    "### Insert Code\n",
    "~~~~\n",
    "a=int(input()\n",
    "print(\"hello everyone\")\n",
    "~~~~"
   ]
  },
  {
   "cell_type": "markdown",
   "metadata": {},
   "source": [
    "### Jupyter Shortcuts\n",
    "\n",
    "- Two Cell types:\n",
    "    - 1. Code cell  --> to write python code\n",
    "    - 2. Markdown cell --> for documentation\n",
    "- Two types of modes:\n",
    "    - Edit mode (border in green color)\n",
    "        - to edit the document or code\n",
    "    - Command mode (border in blue color)\n",
    "        - to apply commands or keyboard shortcuts\n",
    "- Shortcuts:\n",
    "    - Esc + m  ==>to change code cell to markdown cell \n",
    "    - Esc + y  ==> to change markdown cell to code cell\n",
    "    - Esc + a  ==> creates a cell above the current cell\n",
    "    - Esc + b  ==> creates a cell below the current cell\n",
    "    - Esc + dd ==> to delete a particular cell\n",
    "    - Shift + Enter  ==> To run a cell \n",
    "    - Esc + l  ==> to hide or to show the Toggle line numbers"
   ]
  },
  {
   "cell_type": "markdown",
   "metadata": {},
   "source": [
    "### Python Introduction:\n",
    "- Python is a highlevel programming language and general purpose language\n",
    "- interpreted(line-by-line) and scripting language\n",
    "- num of libraries,most developers are using\n",
    "- object oriented language\n",
    "#### Features:\n",
    "- free and open sourse\n",
    "- path independent\n",
    "- \n",
    "#### Applications:\n",
    "- web dev,AI,ml,gaming"
   ]
  },
  {
   "cell_type": "markdown",
   "metadata": {},
   "source": [
    "#### Python comments:\n",
    "- Single line comment(#)\n",
    "- multi-line comments(''' ''')\n",
    "\n",
    "#### Data types:\n",
    "- 1.integer-int()\n",
    "- 2.String-str()\n",
    "- 3.Float-float()\n",
    "\n",
    "#### Type conversions:\n",
    "- int-str-->str(variablename)\n",
    "- str-int-->int(variable name)\n",
    "- int-float-->float(variable name)\n",
    "\n",
    "#### Input methods:\n",
    "- Static\n",
    "- Dynamic\n",
    "    - int-->int(input())\n",
    "    - str-->input()\n",
    "    - float-->float(input())"
   ]
  },
  {
   "cell_type": "code",
   "execution_count": 4,
   "metadata": {},
   "outputs": [
    {
     "name": "stdout",
     "output_type": "stream",
     "text": [
      "<class 'str'>\n",
      "<class 'int'>\n",
      "<class 'float'>\n"
     ]
    }
   ],
   "source": [
    "s='d'\n",
    "print(type(s))\n",
    "\n",
    "n=10\n",
    "print(type(n))\n",
    "\n",
    "a=10.5\n",
    "print(type(a))"
   ]
  },
  {
   "cell_type": "code",
   "execution_count": 6,
   "metadata": {},
   "outputs": [
    {
     "ename": "TypeError",
     "evalue": "can only concatenate str (not \"int\") to str",
     "output_type": "error",
     "traceback": [
      "\u001b[1;31m---------------------------------------------------------------------------\u001b[0m",
      "\u001b[1;31mTypeError\u001b[0m                                 Traceback (most recent call last)",
      "\u001b[1;32m<ipython-input-6-79977afb539f>\u001b[0m in \u001b[0;36m<module>\u001b[1;34m\u001b[0m\n\u001b[0;32m      1\u001b[0m \u001b[0ms\u001b[0m\u001b[1;33m=\u001b[0m\u001b[1;34m'10'\u001b[0m\u001b[1;33m\u001b[0m\u001b[1;33m\u001b[0m\u001b[0m\n\u001b[0;32m      2\u001b[0m \u001b[0ma\u001b[0m\u001b[1;33m=\u001b[0m\u001b[1;36m10\u001b[0m\u001b[1;33m\u001b[0m\u001b[1;33m\u001b[0m\u001b[0m\n\u001b[1;32m----> 3\u001b[1;33m \u001b[0mprint\u001b[0m\u001b[1;33m(\u001b[0m\u001b[0ms\u001b[0m\u001b[1;33m+\u001b[0m\u001b[0ma\u001b[0m\u001b[1;33m)\u001b[0m\u001b[1;33m\u001b[0m\u001b[1;33m\u001b[0m\u001b[0m\n\u001b[0m",
      "\u001b[1;31mTypeError\u001b[0m: can only concatenate str (not \"int\") to str"
     ]
    }
   ],
   "source": [
    "s='10'\n",
    "a=10\n",
    "print(s+a)"
   ]
  },
  {
   "cell_type": "code",
   "execution_count": 10,
   "metadata": {},
   "outputs": [
    {
     "name": "stdout",
     "output_type": "stream",
     "text": [
      "<class 'str'>\n",
      "12\n"
     ]
    },
    {
     "data": {
      "text/plain": [
       "str"
      ]
     },
     "execution_count": 10,
     "metadata": {},
     "output_type": "execute_result"
    }
   ],
   "source": [
    "s='sindhu'\n",
    "b=12.45\n",
    "print(type(s))\n",
    "print(int(b))\n",
    "type(s)"
   ]
  },
  {
   "cell_type": "code",
   "execution_count": 15,
   "metadata": {},
   "outputs": [
    {
     "name": "stdout",
     "output_type": "stream",
     "text": [
      "23\n",
      "23.0\n"
     ]
    },
    {
     "ename": "ValueError",
     "evalue": "invalid literal for int() with base 10: 'sindhu'",
     "output_type": "error",
     "traceback": [
      "\u001b[1;31m---------------------------------------------------------------------------\u001b[0m",
      "\u001b[1;31mValueError\u001b[0m                                Traceback (most recent call last)",
      "\u001b[1;32m<ipython-input-15-f8987b309622>\u001b[0m in \u001b[0;36m<module>\u001b[1;34m\u001b[0m\n\u001b[0;32m      3\u001b[0m \u001b[0mprint\u001b[0m\u001b[1;33m(\u001b[0m\u001b[0mfloat\u001b[0m\u001b[1;33m(\u001b[0m\u001b[1;33m(\u001b[0m\u001b[0ma\u001b[0m\u001b[1;33m)\u001b[0m\u001b[1;33m)\u001b[0m\u001b[1;33m)\u001b[0m\u001b[1;33m\u001b[0m\u001b[1;33m\u001b[0m\u001b[0m\n\u001b[0;32m      4\u001b[0m \u001b[0ms\u001b[0m\u001b[1;33m=\u001b[0m\u001b[1;34m'sindhu'\u001b[0m\u001b[1;33m\u001b[0m\u001b[1;33m\u001b[0m\u001b[0m\n\u001b[1;32m----> 5\u001b[1;33m \u001b[0mprint\u001b[0m\u001b[1;33m(\u001b[0m\u001b[0mint\u001b[0m\u001b[1;33m(\u001b[0m\u001b[0ms\u001b[0m\u001b[1;33m)\u001b[0m\u001b[1;33m)\u001b[0m\u001b[1;33m\u001b[0m\u001b[1;33m\u001b[0m\u001b[0m\n\u001b[0m",
      "\u001b[1;31mValueError\u001b[0m: invalid literal for int() with base 10: 'sindhu'"
     ]
    }
   ],
   "source": [
    "a='23'\n",
    "print(int(a))\n",
    "print(float((a)))\n",
    "s='sindhu'\n",
    "print(int(s))\n"
   ]
  },
  {
   "cell_type": "code",
   "execution_count": 16,
   "metadata": {},
   "outputs": [
    {
     "name": "stdout",
     "output_type": "stream",
     "text": [
      "diet\n"
     ]
    }
   ],
   "source": [
    "#static\n",
    "a='diet'\n",
    "print(a)"
   ]
  },
  {
   "cell_type": "code",
   "execution_count": 20,
   "metadata": {},
   "outputs": [
    {
     "name": "stdout",
     "output_type": "stream",
     "text": [
      "enter the number2\n",
      "enter another number3\n",
      "5\n"
     ]
    }
   ],
   "source": [
    "#Dynamic\n",
    "a=int(input(\"enter the number\"))\n",
    "b=int(input(\"enter another number\"))\n",
    "print(a+b)"
   ]
  },
  {
   "cell_type": "markdown",
   "metadata": {},
   "source": [
    "#### Python Basics:\n",
    "- Variable\n",
    "    - starting with letter and _\n",
    "    - special char and keywords are not used\n",
    "- Keyword\n",
    "    - reserved words\n",
    "- Operators"
   ]
  },
  {
   "cell_type": "code",
   "execution_count": 21,
   "metadata": {},
   "outputs": [
    {
     "name": "stdout",
     "output_type": "stream",
     "text": [
      "10\n"
     ]
    }
   ],
   "source": [
    "n=10    #multi variable assign with single value\n",
    "n1=n2=n\n",
    "print(n2)"
   ]
  },
  {
   "cell_type": "code",
   "execution_count": 25,
   "metadata": {},
   "outputs": [
    {
     "name": "stdout",
     "output_type": "stream",
     "text": [
      "12\n",
      "45.3\n",
      "str\n",
      "diet\n"
     ]
    }
   ],
   "source": [
    "a,b,c,d=12,45.3,'str','diet'   #multi variable assign in multi values\n",
    "print(a)\n",
    "print(b)\n",
    "print(c)\n",
    "print(d)"
   ]
  },
  {
   "cell_type": "code",
   "execution_count": 27,
   "metadata": {},
   "outputs": [
    {
     "name": "stdout",
     "output_type": "stream",
     "text": [
      "['False', 'None', 'True', 'and', 'as', 'assert', 'async', 'await', 'break', 'class', 'continue', 'def', 'del', 'elif', 'else', 'except', 'finally', 'for', 'from', 'global', 'if', 'import', 'in', 'is', 'lambda', 'nonlocal', 'not', 'or', 'pass', 'raise', 'return', 'try', 'while', 'with', 'yield']\n"
     ]
    }
   ],
   "source": [
    "#keywords\n",
    "import keyword\n",
    "print(keyword.kwlist)"
   ]
  },
  {
   "cell_type": "code",
   "execution_count": 28,
   "metadata": {},
   "outputs": [
    {
     "name": "stdout",
     "output_type": "stream",
     "text": [
      "35\n"
     ]
    }
   ],
   "source": [
    "print(len(keyword.kwlist))"
   ]
  },
  {
   "cell_type": "code",
   "execution_count": null,
   "metadata": {},
   "outputs": [],
   "source": [
    "# Take three inputs from the user and print the values\n",
    "# one string value,one float value and one integer value"
   ]
  },
  {
   "cell_type": "code",
   "execution_count": 34,
   "metadata": {},
   "outputs": [
    {
     "name": "stdout",
     "output_type": "stream",
     "text": [
      "13\n",
      "130\n",
      "2\n",
      "2\n",
      "8\n"
     ]
    }
   ],
   "source": [
    "#Assignment operator\n",
    "a = 5\n",
    "b = 8\n",
    "\n",
    "a += b   #a=a+b\n",
    "print(a)\n",
    "a*=10\n",
    "print(a)  #a=a*10\n",
    "a%=b\n",
    "print(a)\n",
    "b//a\n",
    "print(a)\n",
    "print(b)"
   ]
  },
  {
   "cell_type": "code",
   "execution_count": null,
   "metadata": {},
   "outputs": [],
   "source": [
    "#Comparision Operator(>,<,>=,<=,==,!=)\n"
   ]
  },
  {
   "cell_type": "code",
   "execution_count": 38,
   "metadata": {
    "scrolled": true
   },
   "outputs": [
    {
     "name": "stdout",
     "output_type": "stream",
     "text": [
      "False\n",
      "True\n",
      "True\n",
      "True\n"
     ]
    }
   ],
   "source": [
    "#lOGICAL OPERATOR(AND,OR,NOT)\n",
    "a=5\n",
    "print(a>5 and a<10)\n",
    "print(a>3 and a<10 )\n",
    "print(a>7 or a<10)\n",
    "print(not(a>7 and a>8))"
   ]
  },
  {
   "cell_type": "code",
   "execution_count": 39,
   "metadata": {},
   "outputs": [
    {
     "data": {
      "text/plain": [
       "'0b1100100'"
      ]
     },
     "execution_count": 39,
     "metadata": {},
     "output_type": "execute_result"
    }
   ],
   "source": [
    "#Bitwise Operator\n",
    "bin(100)"
   ]
  },
  {
   "cell_type": "code",
   "execution_count": 40,
   "metadata": {},
   "outputs": [
    {
     "data": {
      "text/plain": [
       "4"
      ]
     },
     "execution_count": 40,
     "metadata": {},
     "output_type": "execute_result"
    }
   ],
   "source": [
    "4&7"
   ]
  },
  {
   "cell_type": "code",
   "execution_count": 41,
   "metadata": {},
   "outputs": [
    {
     "data": {
      "text/plain": [
       "7"
      ]
     },
     "execution_count": 41,
     "metadata": {},
     "output_type": "execute_result"
    }
   ],
   "source": [
    "4|7"
   ]
  },
  {
   "cell_type": "code",
   "execution_count": 42,
   "metadata": {},
   "outputs": [
    {
     "data": {
      "text/plain": [
       "2037"
      ]
     },
     "execution_count": 42,
     "metadata": {},
     "output_type": "execute_result"
    }
   ],
   "source": [
    "int('11111110101',2)"
   ]
  },
  {
   "cell_type": "code",
   "execution_count": 43,
   "metadata": {},
   "outputs": [
    {
     "data": {
      "text/plain": [
       "True"
      ]
     },
     "execution_count": 43,
     "metadata": {},
     "output_type": "execute_result"
    }
   ],
   "source": [
    "a = 10\n",
    "b = 10\n",
    "\n",
    "a is b"
   ]
  },
  {
   "cell_type": "code",
   "execution_count": 47,
   "metadata": {},
   "outputs": [
    {
     "data": {
      "text/plain": [
       "True"
      ]
     },
     "execution_count": 47,
     "metadata": {},
     "output_type": "execute_result"
    }
   ],
   "source": [
    "'ieo' not in 'diet college'"
   ]
  },
  {
   "cell_type": "code",
   "execution_count": 52,
   "metadata": {},
   "outputs": [
    {
     "data": {
      "text/plain": [
       "True"
      ]
     },
     "execution_count": 52,
     "metadata": {},
     "output_type": "execute_result"
    }
   ],
   "source": [
    "# range(start=0,stop=user_given,step=1)\n",
    "10 in range(1,11)\n",
    "3 in range(0,10,3)"
   ]
  },
  {
   "cell_type": "code",
   "execution_count": 53,
   "metadata": {},
   "outputs": [
    {
     "data": {
      "text/plain": [
       "False"
      ]
     },
     "execution_count": 53,
     "metadata": {},
     "output_type": "execute_result"
    }
   ],
   "source": [
    "5 in range(10,2)"
   ]
  },
  {
   "cell_type": "markdown",
   "metadata": {},
   "source": [
    "if condition:\n",
    "    statements\n",
    "    .\n",
    "elif condition:\n",
    "    statements\n",
    "    .\n",
    "else:\n",
    "    statements"
   ]
  },
  {
   "cell_type": "code",
   "execution_count": null,
   "metadata": {},
   "outputs": [],
   "source": [
    "### USING IF\n",
    "\n",
    "# take a number and check the number is positive negative or 0\n",
    "# WAP to check given character is in string or not using if\n",
    "# WAP to Develop grading system using if statement\n",
    "# WAP to find out the MAX OR min number from given 4 numbers\n",
    "# WAP to chek the given year is leap or not\n",
    "# WAP to check the number divible by 7 and 3 or not."
   ]
  },
  {
   "cell_type": "code",
   "execution_count": 59,
   "metadata": {},
   "outputs": [
    {
     "name": "stdout",
     "output_type": "stream",
     "text": [
      "Enter username: Admin\n",
      "Enter password: diet@246\n",
      "Invalid password !!!\n"
     ]
    }
   ],
   "source": [
    "username = input(\"Enter username: \")\n",
    "if username=='Admin':\n",
    "    password = input(\"Enter password: \")\n",
    "    if password=='Diet@246':\n",
    "        print(\"Login Successful\")\n",
    "    else:\n",
    "        print(\"Invalid password !!!\")\n",
    "else:\n",
    "    print(\"Invalid Credentials\")"
   ]
  },
  {
   "cell_type": "code",
   "execution_count": 55,
   "metadata": {},
   "outputs": [
    {
     "name": "stdout",
     "output_type": "stream",
     "text": [
      "10\n",
      "80\n",
      "Succefully distributed\n"
     ]
    }
   ],
   "source": [
    "## GIFTS DISTRIBUTION\n",
    "## number of relatives\n",
    "## number of gifts\n",
    "## i/p: 4 9\n",
    "## o/p: 3 gifs\n",
    "\n",
    "no_of_relatives = int(input())\n",
    "no_of_gifts = int(input())\n",
    "if no_of_gifts%no_of_relatives==0:\n",
    "    print(\"Succefully distributed\")\n",
    "else:\n",
    "    print(no_of_relatives-(no_of_gifts%no_of_relatives),\"Gifts needed.\")"
   ]
  },
  {
   "cell_type": "code",
   "execution_count": null,
   "metadata": {},
   "outputs": [],
   "source": []
  }
 ],
 "metadata": {
  "kernelspec": {
   "display_name": "Python 3",
   "language": "python",
   "name": "python3"
  },
  "language_info": {
   "codemirror_mode": {
    "name": "ipython",
    "version": 3
   },
   "file_extension": ".py",
   "mimetype": "text/x-python",
   "name": "python",
   "nbconvert_exporter": "python",
   "pygments_lexer": "ipython3",
   "version": "3.7.3"
  }
 },
 "nbformat": 4,
 "nbformat_minor": 2
}

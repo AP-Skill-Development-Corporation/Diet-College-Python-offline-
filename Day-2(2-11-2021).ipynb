{
 "cells": [
  {
   "cell_type": "markdown",
   "metadata": {},
   "source": [
    "## Day Objectives:\n",
    "\n",
    "- Iterations or loops\n",
    "    - for loop\n",
    "    ```\n",
    "    Syntax:\n",
    "    for iter_variable in sequence or iterable_name:\n",
    "        statements\n",
    "    ```\n",
    "    - while loop\n",
    "    ```\n",
    "    while condition:\n",
    "        statements\n",
    "        increment or decrement\n",
    "    ```\n",
    "- Jumping Statements or loop control statements\n",
    "    - break \n",
    "    - continue\n",
    "    - pass\n",
    "- Strings in python"
   ]
  },
  {
   "cell_type": "markdown",
   "metadata": {},
   "source": [
    "### for loop\n",
    "- to iterate through a sequence or to repeat particular steps\n",
    "- Default incrementation will be done in for loop.\n",
    "- range(start,stop,step) \n",
    "- default start=0,step=1\n",
    "- user can modify the default values"
   ]
  },
  {
   "cell_type": "code",
   "execution_count": 1,
   "metadata": {
    "collapsed": true
   },
   "outputs": [
    {
     "name": "stdout",
     "output_type": "stream",
     "text": [
      "1\n",
      "2\n",
      "3\n",
      "4\n",
      "5\n",
      "6\n",
      "7\n",
      "8\n",
      "9\n"
     ]
    }
   ],
   "source": [
    "# Iterations - for loop\n",
    "# WAP to print natural numbers from 1 to 9\n",
    "for number in range(1,10):\n",
    "    print(number)"
   ]
  },
  {
   "cell_type": "code",
   "execution_count": 6,
   "metadata": {},
   "outputs": [
    {
     "name": "stdout",
     "output_type": "stream",
     "text": [
      "1 2 3 4 5 6 7 8 9 10 "
     ]
    }
   ],
   "source": [
    "for number in range(1,11):\n",
    "    print(number,end=\" \") # we can give any character in end"
   ]
  },
  {
   "cell_type": "code",
   "execution_count": 7,
   "metadata": {},
   "outputs": [
    {
     "name": "stdout",
     "output_type": "stream",
     "text": [
      "0 1 2 3 4 5 6 7 8 9 "
     ]
    }
   ],
   "source": [
    "# default start value will be considered\n",
    "for n in range(10):\n",
    "    print(n,end=\" \")"
   ]
  },
  {
   "cell_type": "code",
   "execution_count": 8,
   "metadata": {},
   "outputs": [
    {
     "name": "stdout",
     "output_type": "stream",
     "text": [
      "10 12 14 16 18 20 22 24 26 28 30 32 34 36 38 40 "
     ]
    }
   ],
   "source": [
    "# modifying the step value\n",
    "for i in range(10,41,2):\n",
    "    print(i,end=\" \")"
   ]
  },
  {
   "cell_type": "code",
   "execution_count": 11,
   "metadata": {},
   "outputs": [
    {
     "name": "stdout",
     "output_type": "stream",
     "text": [
      "10 9 8 7 6 5 4 3 2 1 "
     ]
    }
   ],
   "source": [
    "# printing numbers in descending order\n",
    "for num in range(10,0,-1):\n",
    "    print(num,end=\" \")"
   ]
  },
  {
   "cell_type": "code",
   "execution_count": 13,
   "metadata": {
    "collapsed": true
   },
   "outputs": [
    {
     "name": "stdout",
     "output_type": "stream",
     "text": [
      "p\n",
      "y\n",
      "t\n",
      "h\n",
      "o\n",
      "n\n"
     ]
    }
   ],
   "source": [
    "s = 'python'\n",
    "for ch in s: # we can directly give the string or variable\n",
    "    print(ch)"
   ]
  },
  {
   "cell_type": "code",
   "execution_count": null,
   "metadata": {},
   "outputs": [],
   "source": []
  },
  {
   "cell_type": "code",
   "execution_count": 14,
   "metadata": {},
   "outputs": [
    {
     "name": "stdout",
     "output_type": "stream",
     "text": [
      "Enter lower bound value: 10\n",
      "Enter upper bound value: 30\n",
      "10 12 14 16 18 20 22 24 26 28 "
     ]
    }
   ],
   "source": [
    "lb = int(input(\"Enter lower bound value: \"))\n",
    "ub = int(input(\"Enter upper bound value: \"))\n",
    "for num in range(lb,ub,2):\n",
    "    print(num,end=\" \")"
   ]
  },
  {
   "cell_type": "code",
   "execution_count": 15,
   "metadata": {},
   "outputs": [
    {
     "name": "stdout",
     "output_type": "stream",
     "text": [
      "Enter lower bound value: 50\n",
      "Enter upper bound value: 101\n",
      "101 99 97 95 93 91 89 87 85 83 81 79 77 75 73 71 69 67 65 63 61 59 57 55 53 51 "
     ]
    }
   ],
   "source": [
    "# WAP to print all the odd values in reverse order in a given range\n",
    "\n",
    "lb = int(input(\"Enter lower bound value: \"))\n",
    "ub = int(input(\"Enter upper bound value: \"))\n",
    "for num in range(ub,lb,-2):\n",
    "    print(num,end=\" \")"
   ]
  },
  {
   "cell_type": "markdown",
   "metadata": {},
   "source": [
    "#### Without checking the odd or even condition how can we print the even or odd numbers.\n",
    "\n",
    "- range(lb,ub,2):\n",
    "    - if **lower bound value** is even we get all even numbers in ascending order\n",
    "    - if **lower bound value** is odd we get all odd numbers in ascending order\n",
    "- range(ub,lb,-2):\n",
    "    - if ub means **upper bound value** is even we get all even numbers in descending order\n",
    "    - if it is odd then we get all odd numbers in descending order."
   ]
  },
  {
   "cell_type": "code",
   "execution_count": 18,
   "metadata": {},
   "outputs": [
    {
     "name": "stdout",
     "output_type": "stream",
     "text": [
      "Enter a number: 15\n",
      "1\n",
      "3\n",
      "5\n",
      "15\n"
     ]
    }
   ],
   "source": [
    "# WAP to print factors of a number given by the user.\n",
    "num = int(input(\"Enter a number: \"))\n",
    "for i in range(1,num+1):\n",
    "    if num%i==0:\n",
    "        print(i)"
   ]
  },
  {
   "cell_type": "markdown",
   "metadata": {},
   "source": [
    "### for loop tasks:\n",
    "\n",
    "- WAP to prit the number of factors count of a given number\n",
    "\n",
    "- WAP to check whether the given number is perfect number or not\n",
    "\n",
    "- WAP to check whether the given number is prime or not\n",
    "\n",
    "- WAP to take two inputs from the user for lower and upper bounds and print all the numbers divisible by 6 and not a factor of 100 in the range."
   ]
  },
  {
   "cell_type": "code",
   "execution_count": 21,
   "metadata": {},
   "outputs": [
    {
     "name": "stdout",
     "output_type": "stream",
     "text": [
      "Enter a number: 10\n",
      "1 2 5 10 4\n"
     ]
    }
   ],
   "source": [
    "# WAP to prit the number of factors count of a given number\n",
    "n = int(input(\"Enter a number: \"))\n",
    "fact_count = 0 # initializing the count varibale\n",
    "for i in range(1,n+1):\n",
    "    if n%i==0:\n",
    "        fact_count += 1\n",
    "        print(i,end=\" \")\n",
    "print(fact_count)"
   ]
  },
  {
   "cell_type": "code",
   "execution_count": 22,
   "metadata": {},
   "outputs": [
    {
     "name": "stdout",
     "output_type": "stream",
     "text": [
      "Enter a number: 7\n",
      "Not a prime\n"
     ]
    }
   ],
   "source": [
    "## Prime number\n",
    "n = int(input(\"Enter a number: \"))\n",
    "fact_count = 0 # initializing the count varibale\n",
    "for i in range(1,n):\n",
    "    if n%i==0:\n",
    "        fact_count += 1\n",
    "#print(fact_count)\n",
    "if fact_count==2:\n",
    "    print(\"Prime number\")\n",
    "else:\n",
    "    print(\"Not a prime\")"
   ]
  },
  {
   "cell_type": "code",
   "execution_count": null,
   "metadata": {},
   "outputs": [],
   "source": [
    "#WAP to check whether the given number is perfect number or not\n",
    "n = int(input(\"Enter a number: \"))\n",
    "fact_sum = 0 # initializing the count varibale\n",
    "for i in range(1,n):\n",
    "    if n%i==0:\n",
    "        fact_sum += i\n",
    "#print(fact_sum)\n",
    "if fact_sum==n:\n",
    "    print(\"Perfect number\")\n",
    "else:\n",
    "    print(\"Not a perfect number\")"
   ]
  },
  {
   "cell_type": "code",
   "execution_count": 24,
   "metadata": {
    "collapsed": true
   },
   "outputs": [
    {
     "name": "stdout",
     "output_type": "stream",
     "text": [
      "Enter the start value: 20\n",
      "Enter the stop value: 150\n",
      "24\n",
      "30\n",
      "36\n",
      "42\n",
      "48\n",
      "54\n",
      "60\n",
      "66\n",
      "72\n",
      "78\n",
      "84\n",
      "90\n",
      "96\n",
      "102\n",
      "108\n",
      "114\n",
      "120\n",
      "126\n",
      "132\n",
      "138\n",
      "144\n"
     ]
    }
   ],
   "source": [
    "#WAP to take two inputs from the user for lower and \n",
    "#   upper bounds and print all the numbers divisible by 6 \n",
    "#   and not a factor of 100 in the range.\n",
    "\n",
    "start = int(input(\"Enter the start value: \"))\n",
    "end = int(input(\"Enter the stop value: \"))\n",
    "for num in range(start,end):\n",
    "    if num%6==0 and 100%num!=0:\n",
    "        print(num)"
   ]
  },
  {
   "cell_type": "markdown",
   "metadata": {},
   "source": [
    "### Jumping or loop control statements\n",
    "- break\n",
    "    - to terminate iteration at a particular condition\n",
    "- continue\n",
    "    - to skip a paticular iteration\n",
    "- pass\n",
    "    - for future implementation\n",
    "    - to define empty loops or blocks"
   ]
  },
  {
   "cell_type": "code",
   "execution_count": 27,
   "metadata": {
    "scrolled": true
   },
   "outputs": [
    {
     "name": "stdout",
     "output_type": "stream",
     "text": [
      "1 2 3 4 "
     ]
    }
   ],
   "source": [
    "# break\n",
    "for i in range(1,10):\n",
    "    if i==5:\n",
    "        break\n",
    "    print(i,end=\" \")"
   ]
  },
  {
   "cell_type": "code",
   "execution_count": 35,
   "metadata": {},
   "outputs": [
    {
     "name": "stdout",
     "output_type": "stream",
     "text": [
      "diet"
     ]
    }
   ],
   "source": [
    "for ch in \"diet college\":\n",
    "    if ch==\" \":\n",
    "        break\n",
    "    print(ch,end=\"\")"
   ]
  },
  {
   "cell_type": "code",
   "execution_count": 28,
   "metadata": {},
   "outputs": [
    {
     "name": "stdout",
     "output_type": "stream",
     "text": [
      "1 2 3 4 6 7 8 9 "
     ]
    }
   ],
   "source": [
    "# continue\n",
    "for i in range(1,10):\n",
    "    if i==5:\n",
    "        continue\n",
    "    print(i,end=\" \")"
   ]
  },
  {
   "cell_type": "code",
   "execution_count": 34,
   "metadata": {},
   "outputs": [
    {
     "name": "stdout",
     "output_type": "stream",
     "text": [
      "dietcollege"
     ]
    }
   ],
   "source": [
    "for ch in \"diet college\":\n",
    "    if ch==\" \":\n",
    "        continue\n",
    "    print(ch,end=\"\")"
   ]
  },
  {
   "cell_type": "code",
   "execution_count": 30,
   "metadata": {},
   "outputs": [],
   "source": [
    "# pass\n",
    "for i in range(1,10):\n",
    "    pass  # to define empty loops without body or statements"
   ]
  },
  {
   "cell_type": "code",
   "execution_count": 39,
   "metadata": {
    "collapsed": true
   },
   "outputs": [
    {
     "name": "stdout",
     "output_type": "stream",
     "text": [
      "s\n",
      "o\n",
      "m\n"
     ]
    }
   ],
   "source": [
    "'''\"jayalakshmi\"\n",
    "break ==> jay\n",
    "continue ==> jaylakshmi'''\n",
    "c = 0\n",
    "for ch in \"someswari\":\n",
    "    if ch in 'aeiou':\n",
    "        c += 1\n",
    "        if c==2:\n",
    "            break\n",
    "    print(ch)"
   ]
  },
  {
   "cell_type": "markdown",
   "metadata": {},
   "source": [
    "### While loop\n",
    "\n",
    "- if we want to execute any statements based on a particular condition then we go with while loop.\n",
    "- It will terminate the loop if the condition is **False**\n",
    "- range unknown\n",
    "- we have to initialize the starting value and increment or decrement the values.\n",
    "- Execution is much faster than for-loop\n",
    "```\n",
    "Syntax: \n",
    "    variable_initialization\n",
    "    while condition:\n",
    "        statements\n",
    "        .\n",
    "        increment or decrement\n",
    "```"
   ]
  },
  {
   "cell_type": "code",
   "execution_count": 3,
   "metadata": {},
   "outputs": [
    {
     "name": "stdout",
     "output_type": "stream",
     "text": [
      "10 12 14 16 18 20 "
     ]
    }
   ],
   "source": [
    "# printing natural numbers in a given range:\n",
    "n = 10 # initialization\n",
    "while n<=20: # condition\n",
    "    print(n,end=\" \")\n",
    "    n += 2 # incrementation"
   ]
  },
  {
   "cell_type": "code",
   "execution_count": 5,
   "metadata": {
    "scrolled": true
   },
   "outputs": [
    {
     "name": "stdout",
     "output_type": "stream",
     "text": [
      "11 9 7 5 3 1 "
     ]
    }
   ],
   "source": [
    "# Print numbers in descending order\n",
    "i = 11 # initialization\n",
    "while i>=1:  # terminating condition\n",
    "    print(i,end=\" \")\n",
    "    i -= 2  # condition"
   ]
  },
  {
   "cell_type": "code",
   "execution_count": 10,
   "metadata": {
    "scrolled": true
   },
   "outputs": [
    {
     "name": "stdout",
     "output_type": "stream",
     "text": [
      "Enter a number: 0\n",
      "1\n"
     ]
    }
   ],
   "source": [
    "# print factorila of a given number\n",
    "n = int(input(\"Enter a number: \"))\n",
    "i,fact=n,1\n",
    "while i>=1:\n",
    "    fact *= i\n",
    "    i -= 1\n",
    "print(fact)"
   ]
  },
  {
   "cell_type": "markdown",
   "metadata": {},
   "source": [
    "### While loop Tasks:"
   ]
  },
  {
   "cell_type": "markdown",
   "metadata": {},
   "source": [
    "- WAP to count the number of digits in a given number.\n",
    "\n",
    "```example: i/p: 1200\n",
    "            o/p: 4 ```\n",
    "\n",
    "    \n",
    "\n",
    "-  take a number from the user and multiply each digit from ending with the count of the total digits.\n",
    "\n",
    "```example: 98765\n",
    "   o/p: 25 30 35 40 45\n",
    "   i/p:9876543210\n",
    "   o/p: 0 10 20 30 40 50 60 70 80 90 ```"
   ]
  },
  {
   "cell_type": "code",
   "execution_count": 5,
   "metadata": {},
   "outputs": [
    {
     "name": "stdout",
     "output_type": "stream",
     "text": [
      "12030\n",
      "5\n"
     ]
    }
   ],
   "source": [
    "num = int(input())\n",
    "digit_count=0\n",
    "while num>0:\n",
    "    digit = num%10\n",
    "    digit_count += 1\n",
    "    num = num //10\n",
    "print(digit_count)"
   ]
  },
  {
   "cell_type": "code",
   "execution_count": 12,
   "metadata": {},
   "outputs": [
    {
     "name": "stdout",
     "output_type": "stream",
     "text": [
      "987655\n",
      "6 987655\n",
      "11 11 12 13 14 15 "
     ]
    }
   ],
   "source": [
    "num = int(input())\n",
    "temp = num\n",
    "digit_count=0\n",
    "while num>0:\n",
    "    digit = num%10\n",
    "    digit_count += 1\n",
    "    num = num //10\n",
    "print(digit_count,temp)\n",
    "while temp>0:\n",
    "    digit = temp%10\n",
    "    #digit_count += 1\n",
    "    print(digit+digit_count,end=\" \")\n",
    "    temp = temp //10"
   ]
  },
  {
   "cell_type": "markdown",
   "metadata": {},
   "source": [
    "- take two numbers from the user and print the output like\n",
    "```\n",
    "input: 4723\n",
    "       2372\n",
    "       \n",
    "       o/p: 6 14 21 8\n",
    "```"
   ]
  },
  {
   "cell_type": "code",
   "execution_count": 13,
   "metadata": {},
   "outputs": [
    {
     "name": "stdout",
     "output_type": "stream",
     "text": [
      "4723\n",
      "7543\n",
      "9 8 35 28 "
     ]
    }
   ],
   "source": [
    "n1 = int(input())\n",
    "n2 = int(input())\n",
    "while n1>0: # we can take n2>0 also\n",
    "    d1 = n1%10\n",
    "    d2 = n2%10\n",
    "    print(d1*d2, end=\" \")\n",
    "    n1= n1//10\n",
    "    n2 = n2/10"
   ]
  },
  {
   "cell_type": "markdown",
   "metadata": {},
   "source": [
    "## Strings\n",
    "\n",
    "    - Collection or sequence of characters."
   ]
  },
  {
   "cell_type": "code",
   "execution_count": 17,
   "metadata": {
    "collapsed": true
   },
   "outputs": [
    {
     "name": "stdout",
     "output_type": "stream",
     "text": [
      "diet\n",
      "python\n",
      "Diet college students \n",
      "from CSE branch \n",
      "section-A\n"
     ]
    }
   ],
   "source": [
    "s1 = 'diet' # for single line strings\n",
    "s2 = \"python\" # for single line strings\n",
    "s3 = '''Diet college students \n",
    "from CSE branch \n",
    "section-A'''  # for multiline strings\n",
    "print(s1)\n",
    "print(s2)\n",
    "print(s3)"
   ]
  },
  {
   "cell_type": "code",
   "execution_count": 16,
   "metadata": {
    "collapsed": true
   },
   "outputs": [
    {
     "name": "stdout",
     "output_type": "stream",
     "text": [
      "<class 'str'>\n",
      "<class 'str'>\n",
      "<class 'str'>\n"
     ]
    }
   ],
   "source": [
    "print(type(s1))\n",
    "print(type(s2))\n",
    "print(type(s3))"
   ]
  },
  {
   "cell_type": "code",
   "execution_count": 20,
   "metadata": {},
   "outputs": [
    {
     "name": "stdout",
     "output_type": "stream",
     "text": [
      "diet python\n"
     ]
    }
   ],
   "source": [
    "# String concatenation is nothing but adding ==> '+'\n",
    "print(s1+' '+s2)"
   ]
  },
  {
   "cell_type": "code",
   "execution_count": 23,
   "metadata": {},
   "outputs": [
    {
     "name": "stdout",
     "output_type": "stream",
     "text": [
      "dietdietdietdietdiet\n",
      "thank you thank you thank you \n"
     ]
    }
   ],
   "source": [
    "# String repetetion ==> '*'\n",
    "print(s1*5)\n",
    "print('thank you '*3)"
   ]
  },
  {
   "cell_type": "code",
   "execution_count": 24,
   "metadata": {},
   "outputs": [
    {
     "name": "stdout",
     "output_type": "stream",
     "text": [
      "True\n",
      "False\n",
      "False\n"
     ]
    }
   ],
   "source": [
    "# membership operators\n",
    "print('on' in 'python programming')\n",
    "print('rain' in 'programming')\n",
    "print('ship' not in 'friendship')"
   ]
  },
  {
   "cell_type": "code",
   "execution_count": 27,
   "metadata": {},
   "outputs": [
    {
     "name": "stdout",
     "output_type": "stream",
     "text": [
      "w!e!l!c!o!m!e! !t!o! !d!i!e!t!"
     ]
    }
   ],
   "source": [
    "# iterate through loops\n",
    "s = 'welcome to diet'\n",
    "for ch in s:\n",
    "    print(ch,end=\"!\")"
   ]
  },
  {
   "cell_type": "code",
   "execution_count": 45,
   "metadata": {},
   "outputs": [
    {
     "data": {
      "text/plain": [
       "'come'"
      ]
     },
     "execution_count": 45,
     "metadata": {},
     "output_type": "execute_result"
    }
   ],
   "source": [
    "s = 'welcome to diet'\n",
    "s[1] # e\n",
    "\n",
    "s[4] # o\n",
    "s[12] # i\n",
    "\n",
    "s[-3] # i\n",
    "s[-1] #last character\n",
    "\n",
    "# slicing\n",
    "s[:7] # 'welcome' default start=0\n",
    "s[8:10] #'to'\n",
    "# 'diet'\n",
    "s[11:] # default last value is len(str)\n",
    "\n",
    "# 'wloet it'\n",
    "s[::2] # alternative characters from starting character\n",
    "\n",
    "s[1::2] # 'ecm ode'\n",
    "\n",
    "# reverse of a given string\n",
    "s[::-1]\n",
    "\n",
    "# 'diet' using negative indexing\n",
    "s[-4:]\n",
    "# 'to'\n",
    "s[-7:-5]\n",
    "\n",
    "# 'come'\n",
    "s[-12:-8]"
   ]
  },
  {
   "cell_type": "markdown",
   "metadata": {},
   "source": [
    "## String Methods\n",
    "- dir(str)"
   ]
  },
  {
   "cell_type": "code",
   "execution_count": 29,
   "metadata": {
    "collapsed": true
   },
   "outputs": [
    {
     "name": "stdout",
     "output_type": "stream",
     "text": [
      "['__add__', '__class__', '__contains__', '__delattr__', '__dir__', '__doc__', '__eq__', '__format__', '__ge__', '__getattribute__', '__getitem__', '__getnewargs__', '__gt__', '__hash__', '__init__', '__init_subclass__', '__iter__', '__le__', '__len__', '__lt__', '__mod__', '__mul__', '__ne__', '__new__', '__reduce__', '__reduce_ex__', '__repr__', '__rmod__', '__rmul__', '__setattr__', '__sizeof__', '__str__', '__subclasshook__', 'capitalize', 'casefold', 'center', 'count', 'encode', 'endswith', 'expandtabs', 'find', 'format', 'format_map', 'index', 'isalnum', 'isalpha', 'isascii', 'isdecimal', 'isdigit', 'isidentifier', 'islower', 'isnumeric', 'isprintable', 'isspace', 'istitle', 'isupper', 'join', 'ljust', 'lower', 'lstrip', 'maketrans', 'partition', 'replace', 'rfind', 'rindex', 'rjust', 'rpartition', 'rsplit', 'rstrip', 'split', 'splitlines', 'startswith', 'strip', 'swapcase', 'title', 'translate', 'upper', 'zfill']\n"
     ]
    }
   ],
   "source": [
    "print(dir(str))"
   ]
  },
  {
   "cell_type": "code",
   "execution_count": 46,
   "metadata": {
    "collapsed": true
   },
   "outputs": [
    {
     "data": {
      "text/plain": [
       "'Python experts cse section-a'"
      ]
     },
     "execution_count": 46,
     "metadata": {},
     "output_type": "execute_result"
    }
   ],
   "source": [
    "# Capitalize() --> change the first character to uppercase\n",
    "## and change all the remaining characters into lowercase\n",
    "s1 = \"pyThon exPerts cSe seCtion-A\"\n",
    "s1.capitalize()"
   ]
  },
  {
   "cell_type": "code",
   "execution_count": 47,
   "metadata": {
    "collapsed": true
   },
   "outputs": [
    {
     "data": {
      "text/plain": [
       "'python experts cse section-a'"
      ]
     },
     "execution_count": 47,
     "metadata": {},
     "output_type": "execute_result"
    }
   ],
   "source": [
    "s1.lower() # convert all the characters into lowercase"
   ]
  },
  {
   "cell_type": "code",
   "execution_count": 49,
   "metadata": {
    "collapsed": true
   },
   "outputs": [
    {
     "data": {
      "text/plain": [
       "'PYTHON EXPERTS CSE SECTION-A'"
      ]
     },
     "execution_count": 49,
     "metadata": {},
     "output_type": "execute_result"
    }
   ],
   "source": [
    "s1.upper() # change to uppercase"
   ]
  },
  {
   "cell_type": "code",
   "execution_count": 50,
   "metadata": {},
   "outputs": [
    {
     "data": {
      "text/plain": [
       "'PYtHON EXpERTS CsE SEcTION-a'"
      ]
     },
     "execution_count": 50,
     "metadata": {},
     "output_type": "execute_result"
    }
   ],
   "source": [
    "s1.swapcase() # upper to lower and lower to upper"
   ]
  },
  {
   "cell_type": "code",
   "execution_count": 54,
   "metadata": {
    "collapsed": true
   },
   "outputs": [
    {
     "name": "stdout",
     "output_type": "stream",
     "text": [
      "False\n",
      "False\n",
      "pyThon exPerts cSe seCtion-A\n"
     ]
    }
   ],
   "source": [
    "print(s1.islower())\n",
    "print(s1.isupper())\n",
    "print(s1)"
   ]
  },
  {
   "cell_type": "code",
   "execution_count": 58,
   "metadata": {
    "collapsed": true
   },
   "outputs": [
    {
     "data": {
      "text/plain": [
       "'p*y*T*h*o*n* *e*x*P*e*r*t*s* *c*S*e* *s*e*C*t*i*o*n*-*A'"
      ]
     },
     "execution_count": 58,
     "metadata": {},
     "output_type": "execute_result"
    }
   ],
   "source": [
    "'*'.join(s1)"
   ]
  },
  {
   "cell_type": "code",
   "execution_count": 59,
   "metadata": {
    "collapsed": true
   },
   "outputs": [
    {
     "data": {
      "text/plain": [
       "False"
      ]
     },
     "execution_count": 59,
     "metadata": {},
     "output_type": "execute_result"
    }
   ],
   "source": [
    "s1.istitle()"
   ]
  },
  {
   "cell_type": "code",
   "execution_count": 60,
   "metadata": {
    "collapsed": true
   },
   "outputs": [
    {
     "data": {
      "text/plain": [
       "'Python Experts Cse Section-A'"
      ]
     },
     "execution_count": 60,
     "metadata": {},
     "output_type": "execute_result"
    }
   ],
   "source": [
    "s1.title()"
   ]
  },
  {
   "cell_type": "code",
   "execution_count": 65,
   "metadata": {},
   "outputs": [
    {
     "name": "stdout",
     "output_type": "stream",
     "text": [
      "pyThon exPerts cSe seCtion-A\n"
     ]
    },
    {
     "data": {
      "text/plain": [
       "['pyThon', 'exPerts', 'cSe', 'seCtion-A']"
      ]
     },
     "execution_count": 65,
     "metadata": {},
     "output_type": "execute_result"
    }
   ],
   "source": [
    "print(s1)\n",
    "s1.split()"
   ]
  },
  {
   "cell_type": "code",
   "execution_count": 67,
   "metadata": {
    "collapsed": true
   },
   "outputs": [
    {
     "name": "stdout",
     "output_type": "stream",
     "text": [
      "diet college\n",
      "diet college     \n",
      "     diet college\n"
     ]
    }
   ],
   "source": [
    "s2 = \"     diet college     \"\n",
    "print(s2.strip()) # remove all the leading and trailing spaces\n",
    "print(s2.lstrip()) # removes leading spaces\n",
    "print(s2.rstrip()) # removes trailing spaces"
   ]
  },
  {
   "cell_type": "code",
   "execution_count": 68,
   "metadata": {},
   "outputs": [
    {
     "data": {
      "text/plain": [
       "'python professionals'"
      ]
     },
     "execution_count": 68,
     "metadata": {},
     "output_type": "execute_result"
    }
   ],
   "source": [
    "# replace(old_string,new_string)\n",
    "s3 = \"java professionals\"\n",
    "s3.replace('java','python')"
   ]
  },
  {
   "cell_type": "code",
   "execution_count": 71,
   "metadata": {
    "collapsed": true
   },
   "outputs": [
    {
     "ename": "ValueError",
     "evalue": "substring not found",
     "output_type": "error",
     "traceback": [
      "\u001b[1;31m---------------------------------------------------------------------------\u001b[0m",
      "\u001b[1;31mValueError\u001b[0m                                Traceback (most recent call last)",
      "\u001b[1;32m<ipython-input-71-897a2f25a89a>\u001b[0m in \u001b[0;36m<module>\u001b[1;34m\u001b[0m\n\u001b[0;32m      1\u001b[0m \u001b[0ms3\u001b[0m\u001b[1;33m.\u001b[0m\u001b[0mindex\u001b[0m\u001b[1;33m(\u001b[0m\u001b[1;34m'f'\u001b[0m\u001b[1;33m)\u001b[0m \u001b[1;31m# returns the index value of a given character\u001b[0m\u001b[1;33m\u001b[0m\u001b[1;33m\u001b[0m\u001b[0m\n\u001b[0;32m      2\u001b[0m \u001b[0ms3\u001b[0m\u001b[1;33m.\u001b[0m\u001b[0mindex\u001b[0m\u001b[1;33m(\u001b[0m\u001b[1;34m'ion'\u001b[0m\u001b[1;33m)\u001b[0m \u001b[1;31m# returns first character's index value\u001b[0m\u001b[1;33m\u001b[0m\u001b[1;33m\u001b[0m\u001b[0m\n\u001b[1;32m----> 3\u001b[1;33m \u001b[0ms3\u001b[0m\u001b[1;33m.\u001b[0m\u001b[0mindex\u001b[0m\u001b[1;33m(\u001b[0m\u001b[1;34m'y'\u001b[0m\u001b[1;33m)\u001b[0m\u001b[1;33m\u001b[0m\u001b[1;33m\u001b[0m\u001b[0m\n\u001b[0m",
      "\u001b[1;31mValueError\u001b[0m: substring not found"
     ]
    }
   ],
   "source": [
    "s3.index('f') # returns the index value of a given character\n",
    "s3.index('ion') # returns first character's index value\n",
    "s3.index('y')"
   ]
  },
  {
   "cell_type": "code",
   "execution_count": 76,
   "metadata": {},
   "outputs": [
    {
     "data": {
      "text/plain": [
       "13"
      ]
     },
     "execution_count": 76,
     "metadata": {},
     "output_type": "execute_result"
    }
   ],
   "source": [
    "s3.find('o') # return the index value of given character's first occurance\n",
    "s3.rfind('o')\n",
    "s3.find('y')\n",
    "s3.rindex('o')"
   ]
  },
  {
   "cell_type": "code",
   "execution_count": 77,
   "metadata": {},
   "outputs": [
    {
     "data": {
      "text/plain": [
       "True"
      ]
     },
     "execution_count": 77,
     "metadata": {},
     "output_type": "execute_result"
    }
   ],
   "source": [
    "s4 = '2021'\n",
    "s4.isdigit()"
   ]
  },
  {
   "cell_type": "code",
   "execution_count": 88,
   "metadata": {},
   "outputs": [
    {
     "data": {
      "text/plain": [
       "False"
      ]
     },
     "execution_count": 88,
     "metadata": {},
     "output_type": "execute_result"
    }
   ],
   "source": [
    "s5 = 'python3.8'\n",
    "s5.isalnum()"
   ]
  },
  {
   "cell_type": "code",
   "execution_count": 82,
   "metadata": {},
   "outputs": [
    {
     "data": {
      "text/plain": [
       "True"
      ]
     },
     "execution_count": 82,
     "metadata": {},
     "output_type": "execute_result"
    }
   ],
   "source": [
    "s6 = \"    \"\n",
    "s6.isspace()"
   ]
  },
  {
   "cell_type": "code",
   "execution_count": 92,
   "metadata": {},
   "outputs": [
    {
     "data": {
      "text/plain": [
       "'00000000000000python'"
      ]
     },
     "execution_count": 92,
     "metadata": {},
     "output_type": "execute_result"
    }
   ],
   "source": [
    "s7 = \"python\"\n",
    "s7.zfill(20)"
   ]
  },
  {
   "cell_type": "code",
   "execution_count": 96,
   "metadata": {},
   "outputs": [
    {
     "data": {
      "text/plain": [
       "'python@@@@'"
      ]
     },
     "execution_count": 96,
     "metadata": {},
     "output_type": "execute_result"
    }
   ],
   "source": [
    "s7.ljust(10,'@')"
   ]
  },
  {
   "cell_type": "code",
   "execution_count": 98,
   "metadata": {},
   "outputs": [
    {
     "data": {
      "text/plain": [
       "'     python    '"
      ]
     },
     "execution_count": 98,
     "metadata": {},
     "output_type": "execute_result"
    }
   ],
   "source": [
    "s7.center(15)"
   ]
  },
  {
   "cell_type": "code",
   "execution_count": 100,
   "metadata": {},
   "outputs": [
    {
     "data": {
      "text/plain": [
       "'$$$$$python$$$$'"
      ]
     },
     "execution_count": 100,
     "metadata": {},
     "output_type": "execute_result"
    }
   ],
   "source": [
    "s7.center(15,'$')"
   ]
  },
  {
   "cell_type": "code",
   "execution_count": 104,
   "metadata": {},
   "outputs": [
    {
     "data": {
      "text/plain": [
       "True"
      ]
     },
     "execution_count": 104,
     "metadata": {},
     "output_type": "execute_result"
    }
   ],
   "source": [
    "# startswith(),endswith()\n",
    "s8 = 'Python'\n",
    "s8.startswith('P')\n",
    "s8.endswith('n')"
   ]
  },
  {
   "cell_type": "code",
   "execution_count": null,
   "metadata": {},
   "outputs": [],
   "source": []
  }
 ],
 "metadata": {
  "kernelspec": {
   "display_name": "Python 3",
   "language": "python",
   "name": "python3"
  },
  "language_info": {
   "codemirror_mode": {
    "name": "ipython",
    "version": 3
   },
   "file_extension": ".py",
   "mimetype": "text/x-python",
   "name": "python",
   "nbconvert_exporter": "python",
   "pygments_lexer": "ipython3",
   "version": "3.7.3"
  }
 },
 "nbformat": 4,
 "nbformat_minor": 2
}
